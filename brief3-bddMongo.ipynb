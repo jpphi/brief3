{
 "cells": [
  {
   "cell_type": "markdown",
   "metadata": {},
   "source": [
    "# Base de données NoSQL - MongoDB"
   ]
  },
  {
   "cell_type": "markdown",
   "metadata": {},
   "source": [
    "## **Installation MongoDB**"
   ]
  },
  {
   "cell_type": "markdown",
   "metadata": {},
   "source": [
    "Voici deux méthodes pour installer mongo du plus simple au plus complexe (à utiliser en fonction de votre préférence ou en cas d'echec d'une méthode)  \n",
    "**1 - avec docker**  \n",
    "a) Commencons par installer docker soit avec :  \n",
    "sudo snap install docker  \n",
    "ou avec apt:  \n",
    "apt install docker.io  \n",
    "b)Ensuite, créer un repertoire ou seront stocker les données de la MongoDB, par exemple  \n",
    "mkdir -p ~/data-mongodb  \n",
    "c) il suffit ensuite d'installer mongo avec la suivante suivante:  \n",
    "docker run -d -p 27017:27017 -v ~/src/data/mongo-docker:/data/db --name mongodb mongo:4.2  \n",
    "ici, docker se charge d'installer tout le necessaire et de placer le tout dans un conteneur isolé.\n",
    "d) Si l'installation a fonctionné, vous pourrez renter dans un interpreteur mongodb avec la commande suivante:  docker exec -it mongodb mongo  \n",
    "**2 - avec apt**   \n",
    "voir le tuto pour debian ou ubuntu sur la doc mongo."
   ]
  },
  {
   "cell_type": "markdown",
   "metadata": {},
   "source": [
    "## **Prise en main MongoDB**  \n",
    "https://docs.mongodb.com/manual/reference/method/js-database/  \n",
    "https://riptutorial.com/fr/mongodb/example/30003/creer-une-collection"
   ]
  },
  {
   "cell_type": "raw",
   "metadata": {},
   "source": [
    "https://riptutorial.com/fr/mongodb/example/30003/creer-une-collection#:~:text=En%20utilisant%20la%20db.,vous%20pouvez%20cr%C3%A9er%20explicitement%20Collection.&text=En%20utilisant%20la%20commande%20show,de%20la%20base%20de%20donn%C3%A9es.&text=Le%20nom%20de%20la%20collection%20%C3%A0%20cr%C3%A9er  \n",
    "\n",
    "création de la base  \n",
    "\n",
    "> use rech_emp\n",
    "switched to db rech_emp\n",
    "\n",
    "création d'une nouvelle collection  \n",
    "\n",
    "> db.createCollection('offres_emploi')\n",
    "{ \"ok\" : 1 }\n",
    "> \n",
    "\n",
    "Visualisation des collections\n",
    "> show collections\n",
    "offres_emploi\n",
    "\n",
    "Insertion d'une donnée:\n",
    "> db.offres_emploi.insert({title : \"Big Data Developer\", description: \"FL-Tampa, Our client, one of the largest financial services firms, is seeking a Big Data Developer Location: Tampa, FL Position Type: Contract Job Responsibilities: -Gather various data points from multiple sources within and load to big data Hadoop solution. -Transform data into usable form per user requirements. -Implement proper controls to protect integrity of data and limit use of sensitive data to una\",link:\"http://jobview.monster.com/Big-Data-Developer-Job-Tampa-FL-US-221978899.aspx\",guid: 221978899, pubDate: \"Thu, 12 Nov 2020 02:31:23 GMT\"})\n",
    "WriteResult({ \"nInserted\" : 1 })\n",
    "\n",
    "Visualistion des données\n",
    "> db.offres_emploi.find()\n",
    "{ \"_id\" : ObjectId(\"5fad3222423ac3bad9f64efa\"), \"title\" : \"Big Data Developer\", \"description\" : \"FL-Tampa, Our client, one of the largest financial services firms, is seeking a Big Data Developer Location: Tampa, FL Position Type: Contract Job Responsibilities: -Gather various data points from multiple sources within and load to big data Hadoop solution. -Transform data into usable form per user requirements. -Implement proper controls to protect integrity of data and limit use of sensitive data to una\", \"link\" : \"http://jobview.monster.com/Big-Data-Developer-Job-Tampa-FL-US-221978899.aspx\", \"guid\" : 221978899, \"pubDate\" : \"Thu, 12 Nov 2020 02:31:23 GMT\" }\n",
    "> \n"
   ]
  },
  {
   "cell_type": "markdown",
   "metadata": {},
   "source": [
    "## **Interface python/mongodb**"
   ]
  },
  {
   "cell_type": "markdown",
   "metadata": {},
   "source": [
    "Installation de la librairie python:  \n",
    "pip install --user pymongo  \n",
    "Installation dans l'environnement annaconda:  \n",
    "conda install pymongo"
   ]
  },
  {
   "cell_type": "markdown",
   "metadata": {},
   "source": [
    "#### **Se connecter à la base, ajout de donnée, affichage des données contenues dans la collection**  "
   ]
  },
  {
   "cell_type": "code",
   "execution_count": 45,
   "metadata": {},
   "outputs": [
    {
     "name": "stdout",
     "output_type": "stream",
     "text": [
      "[{'_id': ObjectId('5fad3222423ac3bad9f64efa'),\n",
      "  'description': 'FL-Tampa, Our client, one of the largest financial services '\n",
      "                 'firms, is seeking a Big Data Developer Location: Tampa, FL '\n",
      "                 'Position Type: Contract Job Responsibilities: -Gather '\n",
      "                 'various data points from multiple sources within and load to '\n",
      "                 'big data Hadoop solution. -Transform data into usable form '\n",
      "                 'per user requirements. -Implement proper controls to protect '\n",
      "                 'integrity of data and limit use of sensitive data to una',\n",
      "  'guid': 221978899.0,\n",
      "  'link': 'http://jobview.monster.com/Big-Data-Developer-Job-Tampa-FL-US-221978899.aspx',\n",
      "  'pubDate': 'Thu, 12 Nov 2020 02:31:23 GMT',\n",
      "  'title': 'Big Data Developer'},\n",
      " {'_id': ObjectId('5fad4adbeb7b7b482b8413fd'), 'toto': 'titi'},\n",
      " {'_id': ObjectId('5fad4b57eb7b7b482b841400'),\n",
      "  'description': 'NY-Garden City, Location: Garden City, NY Description: Our '\n",
      "                 'client is currently seeking a Big Data Developer - II Title: '\n",
      "                 'Big Data Developer Location: Garden City, NY Duration: 12+ '\n",
      "                 'Months What you?ll be doing. You will be part of a new Data '\n",
      "                 'Science team, ensuring that innovation drives continuous '\n",
      "                 'business improvements, bringing more profitable growth and '\n",
      "                 'an even better customer experience. As a Data '\n",
      "                 'Analytics/Predi',\n",
      "  'guid': 221152772,\n",
      "  'link': 'http://jobview.monster.com/Big-Data-Developer-II-Job-Garden-City-NY-US-221152772.aspx',\n",
      "  'pubDate': 'Thu, 12 Nov 2020 00:06:54 GMT',\n",
      "  'title': 'Big Data Developer - II'},\n",
      " {'_id': ObjectId('5fad5130eb7b7b482b841402'),\n",
      "  'description': 'NY-Garden City, Location: Garden City, NY Description: Our '\n",
      "                 'client is currently seeking a Big Data Developer - II Title: '\n",
      "                 'Big Data Developer Location: Garden City, NY Duration: 12+ '\n",
      "                 'Months What you?ll be doing. You will be part of a new Data '\n",
      "                 'Science team, ensuring that innovation drives continuous '\n",
      "                 'business improvements, bringing more profitable growth and '\n",
      "                 'an even better customer experience. As a Data '\n",
      "                 'Analytics/Predi',\n",
      "  'guid': 221152772,\n",
      "  'link': 'http://jobview.monster.com/Big-Data-Developer-II-Job-Garden-City-NY-US-221152772.aspx',\n",
      "  'pubDate': 'Thu, 12 Nov 2020 00:06:54 GMT',\n",
      "  'title': 'Big Data Developer - II'},\n",
      " {'_id': ObjectId('5fad513eeb7b7b482b841404'),\n",
      "  'description': 'NY-Garden City, Location: Garden City, NY Description: Our '\n",
      "                 'client is currently seeking a Big Data Developer - II Title: '\n",
      "                 'Big Data Developer Location: Garden City, NY Duration: 12+ '\n",
      "                 'Months What you?ll be doing. You will be part of a new Data '\n",
      "                 'Science team, ensuring that innovation drives continuous '\n",
      "                 'business improvements, bringing more profitable growth and '\n",
      "                 'an even better customer experience. As a Data '\n",
      "                 'Analytics/Predi',\n",
      "  'guid': 221152772,\n",
      "  'link': 'http://jobview.monster.com/Big-Data-Developer-II-Job-Garden-City-NY-US-221152772.aspx',\n",
      "  'pubDate': 'Thu, 12 Nov 2020 00:06:54 GMT',\n",
      "  'title': 'Big Data Developer - II'},\n",
      " {'_id': ObjectId('5fad514eeb7b7b482b841406'),\n",
      "  'description': 'NY-Garden City, Location: Garden City, NY Description: Our '\n",
      "                 'client is currently seeking a Big Data Developer - II Title: '\n",
      "                 'Big Data Developer Location: Garden City, NY Duration: 12+ '\n",
      "                 'Months What you?ll be doing. You will be part of a new Data '\n",
      "                 'Science team, ensuring that innovation drives continuous '\n",
      "                 'business improvements, bringing more profitable growth and '\n",
      "                 'an even better customer experience. As a Data '\n",
      "                 'Analytics/Predi',\n",
      "  'guid': 221152772,\n",
      "  'link': 'http://jobview.monster.com/Big-Data-Developer-II-Job-Garden-City-NY-US-221152772.aspx',\n",
      "  'pubDate': 'Thu, 12 Nov 2020 00:06:54 GMT',\n",
      "  'title': 'Big Data Developer - II'},\n",
      " {'_id': ObjectId('5fad518beb7b7b482b841408'),\n",
      "  'description': 'NY-Garden City, Location: Garden City, NY Description: Our '\n",
      "                 'client is currently seeking a Big Data Developer - II Title: '\n",
      "                 'Big Data Developer Location: Garden City, NY Duration: 12+ '\n",
      "                 'Months What you?ll be doing. You will be part of a new Data '\n",
      "                 'Science team, ensuring that innovation drives continuous '\n",
      "                 'business improvements, bringing more profitable growth and '\n",
      "                 'an even better customer experience. As a Data '\n",
      "                 'Analytics/Predi',\n",
      "  'guid': 221152772,\n",
      "  'link': 'http://jobview.monster.com/Big-Data-Developer-II-Job-Garden-City-NY-US-221152772.aspx',\n",
      "  'pubDate': 'Thu, 12 Nov 2020 00:06:54 GMT',\n",
      "  'title': 'Big Data Developer - II'},\n",
      " {'_id': ObjectId('5fad51d6eb7b7b482b84140a'),\n",
      "  'description': 'NY-Garden City, Location: Garden City, NY Description: Our '\n",
      "                 'client is currently seeking a Big Data Developer - II Title: '\n",
      "                 'Big Data Developer Location: Garden City, NY Duration: 12+ '\n",
      "                 'Months What you?ll be doing. You will be part of a new Data '\n",
      "                 'Science team, ensuring that innovation drives continuous '\n",
      "                 'business improvements, bringing more profitable growth and '\n",
      "                 'an even better customer experience. As a Data '\n",
      "                 'Analytics/Predi',\n",
      "  'guid': 221152772,\n",
      "  'link': 'http://jobview.monster.com/Big-Data-Developer-II-Job-Garden-City-NY-US-221152772.aspx',\n",
      "  'pubDate': 'Thu, 12 Nov 2020 00:06:54 GMT',\n",
      "  'title': 'Big Data Developer - II'},\n",
      " {'_id': ObjectId('5fad51e7eb7b7b482b84140c'),\n",
      "  'description': 'NY-Garden City, Location: Garden City, NY Description: Our '\n",
      "                 'client is currently seeking a Big Data Developer - II Title: '\n",
      "                 'Big Data Developer Location: Garden City, NY Duration: 12+ '\n",
      "                 'Months What you?ll be doing. You will be part of a new Data '\n",
      "                 'Science team, ensuring that innovation drives continuous '\n",
      "                 'business improvements, bringing more profitable growth and '\n",
      "                 'an even better customer experience. As a Data '\n",
      "                 'Analytics/Predi',\n",
      "  'guid': 221152772,\n",
      "  'link': 'http://jobview.monster.com/Big-Data-Developer-II-Job-Garden-City-NY-US-221152772.aspx',\n",
      "  'pubDate': 'Thu, 12 Nov 2020 00:06:54 GMT',\n",
      "  'title': 'Big Data Developer - II'}]\n"
     ]
    }
   ],
   "source": [
    "import pymongo\n",
    "from pymongo import MongoClient\n",
    "import pprint\n",
    "\n",
    "client = MongoClient ('localhost',27017)\n",
    "db = client.test\n",
    "\n",
    "nd={\"title\":\"Big Data Developer - II\",\"description\": \"NY-Garden City, Location: Garden City, NY Description: Our client is currently seeking a Big Data Developer - II Title: Big Data Developer Location: Garden City, NY Duration: 12+ Months What you?ll be doing. You will be part of a new Data Science team, ensuring that innovation drives continuous business improvements, bringing more profitable growth and an even better customer experience. As a Data Analytics/Predi\",\\\n",
    "    \"link\": \"http://jobview.monster.com/Big-Data-Developer-II-Job-Garden-City-NY-US-221152772.aspx\",\\\n",
    "    \"guid\":221152772,\"pubDate\":\"Thu, 12 Nov 2020 00:06:54 GMT\"}\n",
    "\n",
    "#print(nd)\n",
    "db.offres_emploi.insert_one(nd);\n",
    "\n",
    "#print(list(db.offres_emploi.find()))\n",
    "pprint.pprint(list(db.offres_emploi.find()))\n",
    "\n"
   ]
  },
  {
   "cell_type": "markdown",
   "metadata": {},
   "source": [
    "## **Scrapy**"
   ]
  },
  {
   "cell_type": "markdown",
   "metadata": {},
   "source": [
    "### **Présentation de scrapy**"
   ]
  },
  {
   "cell_type": "markdown",
   "metadata": {},
   "source": [
    "Scrapy est un framework open source et collaborative pour l'extraction de données sur le net.  \n",
    "Scrapy est un outil créer spécifiquement pour effectuer des requêtes, scraper et sauvegarder des données sur le web. Il se suffit à lui même pour construire un projet de webscraping robuste.  \n",
    "\n",
    "# Exploiter le site\n",
    "https://medium.com/@alexandrewrg/scraper-les-donn%C3%A9es-de-plusieurs-pages-avec-scrapy-2e076ac7dc09\n"
   ]
  },
  {
   "cell_type": "code",
   "execution_count": null,
   "metadata": {},
   "outputs": [],
   "source": []
  },
  {
   "cell_type": "code",
   "execution_count": null,
   "metadata": {},
   "outputs": [],
   "source": []
  },
  {
   "cell_type": "markdown",
   "metadata": {},
   "source": [
    "### **Installation de Scrapy**"
   ]
  },
  {
   "cell_type": "raw",
   "metadata": {},
   "source": [
    "pip install scrapy\n",
    "conda install scrapy"
   ]
  },
  {
   "cell_type": "markdown",
   "metadata": {},
   "source": [
    "## Ressources"
   ]
  },
  {
   "cell_type": "markdown",
   "metadata": {},
   "source": [
    "* https://www.digitalocean.com/community/tutorials/how-to-make-a-web-application-using-flask-in-python-3-fr\n",
    "* https://openclassrooms.com/fr/courses/4425066-concevez-un-site-avec-flask  \n",
    "mongodb:  \n",
    "* https://www.mongodb.com/\n",
    "* https://docs.mongodb.com/  \n",
    "scrapy:  \n",
    "* https://scrapy.org\n",
    "* https://docs.scrapy.org\n",
    "\n"
   ]
  },
  {
   "cell_type": "code",
   "execution_count": null,
   "metadata": {},
   "outputs": [],
   "source": []
  }
 ],
 "metadata": {
  "kernelspec": {
   "display_name": "Python 3",
   "language": "python",
   "name": "python3"
  },
  "language_info": {
   "codemirror_mode": {
    "name": "ipython",
    "version": 3
   },
   "file_extension": ".py",
   "mimetype": "text/x-python",
   "name": "python",
   "nbconvert_exporter": "python",
   "pygments_lexer": "ipython3",
   "version": "3.8.3"
  }
 },
 "nbformat": 4,
 "nbformat_minor": 4
}
